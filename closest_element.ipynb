{
 "cells": [
  {
   "cell_type": "code",
   "execution_count": 1,
   "id": "fb1315c5-db02-45cc-9ec7-ce7baa19de8f",
   "metadata": {},
   "outputs": [],
   "source": [
    "import timeit\n",
    "import numpy as np\n",
    "from typing import List"
   ]
  },
  {
   "cell_type": "code",
   "execution_count": 2,
   "id": "3cf4a341-5f88-4e3c-b028-aaa56e3d1037",
   "metadata": {},
   "outputs": [],
   "source": [
    "%load_ext memory_profiler"
   ]
  },
  {
   "cell_type": "markdown",
   "id": "d035762f-4030-46fe-9fdd-6db511608bb6",
   "metadata": {},
   "source": [
    "## Solution in pure Python"
   ]
  },
  {
   "cell_type": "code",
   "execution_count": 3,
   "id": "b81252d2-ef0f-4c52-8f40-4fec126852a7",
   "metadata": {},
   "outputs": [],
   "source": [
    "def closest_element_python(a: List[int]) -> int:\n",
    "    \"\"\"\n",
    "    Finds the element in the sorted list 'a' that minimizes the sum of its\n",
    "    absolute differences with all other elements.\n",
    "    (pure Python)\n",
    "\n",
    "    Args:\n",
    "        a: A sorted list of integers.\n",
    "\n",
    "    Returns:\n",
    "        The element from 'a' that minimizes the sum of absolute differences.\n",
    "    \"\"\"\n",
    "\n",
    "    # calculate sum of absolute differences for each element in list\n",
    "    sums = [sum([abs(i - j) for j in a]) for i in a]\n",
    "    \n",
    "    # return element at the position of the smallest sum's index (uses first position in case of duplicates)\n",
    "    return a[sums.index(min(sums))]"
   ]
  },
  {
   "cell_type": "markdown",
   "id": "311bc7c8-6ca8-40e2-a76f-29be59c557ca",
   "metadata": {},
   "source": [
    "## Solution using numpy"
   ]
  },
  {
   "cell_type": "code",
   "execution_count": 4,
   "id": "292d4f34-c9d8-4c91-a13c-f6b673ab7c2b",
   "metadata": {},
   "outputs": [],
   "source": [
    "def closest_element_numpy(a: List[int]) -> int:\n",
    "    \"\"\"\n",
    "    Finds the element in the sorted list 'a' that minimizes the sum of its\n",
    "    absolute differences with all other elements.\n",
    "    (Using numpy)\n",
    "\n",
    "    Args:\n",
    "        a: A sorted list of integers.\n",
    "\n",
    "    Returns:\n",
    "        The element from 'a' that minimizes the sum of absolute differences.\n",
    "    \"\"\"    \n",
    "    a = np.array(a)\n",
    "    \n",
    "    # generate array of pairwise absolute differences\n",
    "    abs_differences = np.abs(a[:, np.newaxis] - a)\n",
    "    \n",
    "    # calculate sums of differences\n",
    "    sum_of_abs_differences = np.sum(abs_differences, axis=1)\n",
    "    \n",
    "    # find smallest sum\n",
    "    smallest_sum_idx = np.argmin(sum_of_abs_differences)\n",
    "    \n",
    "    #return array element at the position of the smallest sum's index\n",
    "    return a[smallest_sum_idx]"
   ]
  },
  {
   "cell_type": "markdown",
   "id": "3f1abe11-519a-4d18-be8f-b74825c134a0",
   "metadata": {},
   "source": [
    "## Generate worst case input (1000 elements with values ranging from -106 to 106)"
   ]
  },
  {
   "cell_type": "code",
   "execution_count": 5,
   "id": "fb2e48d6-ddcf-426b-a01e-301e04729939",
   "metadata": {},
   "outputs": [],
   "source": [
    "start = -106\n",
    "end = 106\n",
    "step = (end - start) / (1000-1)\n",
    "worst_case = [round(x) for x in np.arange(start, end + step, step)]"
   ]
  },
  {
   "cell_type": "markdown",
   "id": "d863d365-5cbe-4dfa-9e45-267484482738",
   "metadata": {},
   "source": [
    "## List of all test cases"
   ]
  },
  {
   "cell_type": "code",
   "execution_count": 6,
   "id": "85249620-8eac-45e7-8715-106692590623",
   "metadata": {},
   "outputs": [],
   "source": [
    "test_cases = [\n",
    "    { \"input\": [1, 1, 3, 4], \"output\": 1 },\n",
    "    { \"input\": [23], \"output\": 23 },\n",
    "    { \"input\": [-10, -10, -10, -10, -10, -9, -9, -9, -8, -8, -7, -6, -5, -4, -3, -2, -1, 0, 0, 0, 0, 1, 2, 3, 4, 5, 6, 7, 8, 9, 10, 11, 12, 13, 14, 15, 16, 17, 18, 19, 20, 21, 22, 23, 24, 25, 26, 27, 28, 29, 30, 31, 32, 33, 34, 35, 36, 37, 38, 39, 40, 41, 42, 43, 44, 45, 46, 47, 48, 49, 50], \"output\": 15 },\n",
    "    { \"input\": [-4, -1], \"output\": -4 },\n",
    "    { \"input\": [-1000000, -10000, -10000, -1000, -100, -10, -1, 0, 1, 10, 100, 1000, 10000, 100000, 1000000], \"output\": 0 },\n",
    "    { \"input\": [ -10, -9, -8, -7, -6, -5, -4, -3, -2, -1, 0, 1, 2, 3, 4, 5, 6, 7, 8, 9, 10, 11, 12, 13, 14, 15, 16, 17, 18, 19, 20, 21, 22, 23, 24, 25, 26, 27, 28, 29, 30, 31, 32, 33, 34, 35, 36, 37, 38, 39, 40, 41, 42, 43, 44, 45, 46, 47, 48, 49, 50, 51, 52, 53, 54, 55, 56, 57, 58, 59, 60, 61, 62, 63, 64, 65, 66, 67, 68, 69, 70, 71, 72, 73, 74, 75, 76, 77, 78, 79, 80, 81, 82, 83, 84, 85, 86, 87, 88, 89, 90, 91, 92, 93, 94, 95, 96, 97, 98, 99, 100, 110, 111, 112, 113, 114, 115, 116, 117, 118, 119, 120, 121, 122, 123, 124, 125, 126, 127, 128, 129, 130, 131, 132, 133, 134, 135, 136, 137, 138, 139, 140, 141, 142, 143, 144, 145, 146, 147, 148, 149, 150] , \"output\": 65 },\n",
    "    { \"input\": worst_case, \"output\": 0 }\n",
    "]"
   ]
  },
  {
   "cell_type": "markdown",
   "id": "1cb4ed53-bab6-4957-a606-171a556b7bb0",
   "metadata": {},
   "source": [
    "## Verify functional correctness"
   ]
  },
  {
   "cell_type": "code",
   "execution_count": 7,
   "id": "986cc2fc-7c3c-4e25-ba9e-c4c828e3b422",
   "metadata": {},
   "outputs": [],
   "source": [
    "for case in test_cases:\n",
    "    assert(closest_element_python(case[\"input\"]) == case[\"output\"])\n",
    "    assert(closest_element_numpy(case[\"input\"]) == case[\"output\"])"
   ]
  },
  {
   "cell_type": "markdown",
   "id": "3563e62b-733a-4c47-a1cc-45fba6959b32",
   "metadata": {},
   "source": [
    "## Validate that the runtime adheres to the 4-second constraint"
   ]
  },
  {
   "cell_type": "code",
   "execution_count": 9,
   "id": "dec452b7-b9a6-4af8-afdc-599e471c8a5a",
   "metadata": {},
   "outputs": [
    {
     "name": "stdout",
     "output_type": "stream",
     "text": [
      "35.7 ms ± 0 ns per loop (mean ± std. dev. of 1 run, 100 loops each)\n"
     ]
    }
   ],
   "source": [
    "%%timeit -n 100 -r 1 \n",
    "closest_element_python(worst_case)"
   ]
  },
  {
   "cell_type": "code",
   "execution_count": 14,
   "id": "0b4c9aaa-a4bf-407e-acb1-a73281aabd1c",
   "metadata": {},
   "outputs": [
    {
     "name": "stdout",
     "output_type": "stream",
     "text": [
      "2.28 ms ± 0 ns per loop (mean ± std. dev. of 1 run, 100 loops each)\n"
     ]
    }
   ],
   "source": [
    "%%timeit -n 100 -r 1\n",
    "closest_element_numpy(worst_case)"
   ]
  },
  {
   "cell_type": "markdown",
   "id": "5dd4c739-e07c-402c-bb86-03cf64d9b63e",
   "metadata": {},
   "source": [
    "## Validate that the memory consumption adheres to the 1GB constraint"
   ]
  },
  {
   "cell_type": "code",
   "execution_count": 11,
   "id": "2dcb56b4-9ba7-4deb-b01b-ca2de4fc7aef",
   "metadata": {},
   "outputs": [
    {
     "name": "stdout",
     "output_type": "stream",
     "text": [
      "peak memory: 67.85 MiB, increment: 1.48 MiB\n"
     ]
    }
   ],
   "source": [
    "%%memit -r 10\n",
    "closest_element_python(worst_case)"
   ]
  },
  {
   "cell_type": "code",
   "execution_count": 12,
   "id": "56f49e7c-3767-4d62-887a-940889a872dd",
   "metadata": {},
   "outputs": [
    {
     "name": "stdout",
     "output_type": "stream",
     "text": [
      "peak memory: 67.85 MiB, increment: 0.00 MiB\n"
     ]
    }
   ],
   "source": [
    "%%memit -r 10\n",
    "closest_element_numpy(worst_case)"
   ]
  },
  {
   "cell_type": "code",
   "execution_count": null,
   "id": "2cdb1f4e-da82-4eeb-b68b-7cd372a86548",
   "metadata": {},
   "outputs": [],
   "source": []
  }
 ],
 "metadata": {
  "kernelspec": {
   "display_name": "Python 3 (ipykernel)",
   "language": "python",
   "name": "python3"
  },
  "language_info": {
   "codemirror_mode": {
    "name": "ipython",
    "version": 3
   },
   "file_extension": ".py",
   "mimetype": "text/x-python",
   "name": "python",
   "nbconvert_exporter": "python",
   "pygments_lexer": "ipython3",
   "version": "3.9.12"
  }
 },
 "nbformat": 4,
 "nbformat_minor": 5
}
